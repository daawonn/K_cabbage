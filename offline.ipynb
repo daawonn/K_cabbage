{
 "cells": [
  {
   "cell_type": "code",
   "execution_count": 18,
   "metadata": {},
   "outputs": [],
   "source": [
    "# conda install -c conda-forge tensorflow=1.15"
   ]
  },
  {
   "cell_type": "code",
   "execution_count": 29,
   "metadata": {},
   "outputs": [],
   "source": [
    "import tensorflow as tf\n",
    "import numpy as np\n",
    "from pandas.io.parsers import read_csv"
   ]
  },
  {
   "cell_type": "code",
   "execution_count": 30,
   "metadata": {},
   "outputs": [],
   "source": [
    "data = read_csv('price_data.csv', sep=',')"
   ]
  },
  {
   "cell_type": "code",
   "execution_count": 31,
   "metadata": {},
   "outputs": [],
   "source": [
    "model = tf.global_variables_initializer();"
   ]
  },
  {
   "cell_type": "code",
   "execution_count": 32,
   "metadata": {},
   "outputs": [],
   "source": [
    "xy = np.array(data, dtype=np.float32)"
   ]
  },
  {
   "cell_type": "code",
   "execution_count": 33,
   "metadata": {},
   "outputs": [],
   "source": [
    "# 4개의 변인을 입력을 받습니다.\n",
    "x_data = xy[:, 1:-1]"
   ]
  },
  {
   "cell_type": "code",
   "execution_count": 34,
   "metadata": {},
   "outputs": [],
   "source": [
    "# 가격 값을 입력 받습니다.\n",
    "y_data = xy[:, [-1]]"
   ]
  },
  {
   "cell_type": "code",
   "execution_count": 35,
   "metadata": {},
   "outputs": [],
   "source": [
    "# 플레이스 홀더를 설정합니다.\n",
    "X = tf.placeholder(tf.float32, shape=[None, 4])\n",
    "Y = tf.placeholder(tf.float32, shape=[None, 1])"
   ]
  },
  {
   "cell_type": "code",
   "execution_count": 36,
   "metadata": {},
   "outputs": [],
   "source": [
    "# y = wX+b\n",
    "W = tf.Variable(tf.random_normal([4, 1]), name=\"weight\")\n",
    "b = tf.Variable(tf.random_normal([1]), name=\"bias\")"
   ]
  },
  {
   "cell_type": "code",
   "execution_count": 37,
   "metadata": {},
   "outputs": [],
   "source": [
    "# 가설을 설정합니다. y = wX+b\n",
    "# tensorflow 행렬곱 합수 matmul\n",
    "hypothesis = tf.matmul(X, W) + b\n",
    "# hypothesis = tf.nn.softmax(tf.matmul(X, W) + b)"
   ]
  },
  {
   "cell_type": "code",
   "execution_count": 38,
   "metadata": {},
   "outputs": [],
   "source": [
    "# 비용 함수를 설정합니다. (예측값 - 실제값)제곱의 평균\n",
    "# reduce_mean은 특정 차원을 제거하고 평균을 구한다.\n",
    "cost = tf.reduce_mean(tf.square(hypothesis - Y))\n",
    "correct_prediction = tf.equal(tf.argmax(hypothesis,1),tf.argmax(Y,1))\n",
    "accuracy = tf.reduce_mean(tf.cast(correct_prediction,tf.float32))"
   ]
  },
  {
   "cell_type": "code",
   "execution_count": 39,
   "metadata": {},
   "outputs": [],
   "source": [
    "# 최적화 함수를 설정합니다.\n",
    "optimizer = tf.train.MomentumOptimizer(learning_rate=0.0005,momentum=0.9)\n",
    "train = optimizer.minimize(cost)"
   ]
  },
  {
   "cell_type": "code",
   "execution_count": 40,
   "metadata": {},
   "outputs": [],
   "source": [
    "# 세션을 생성합니다.\n",
    "sess = tf.Session()"
   ]
  },
  {
   "cell_type": "code",
   "execution_count": 41,
   "metadata": {},
   "outputs": [],
   "source": [
    "# 글로벌 변수를 초기화합니다.\n",
    "sess.run(tf.global_variables_initializer())"
   ]
  },
  {
   "cell_type": "code",
   "execution_count": 43,
   "metadata": {},
   "outputs": [
    {
     "name": "stdout",
     "output_type": "stream",
     "text": [
      "# 0  손실 비용:  1825344.1\n",
      "- 배추 가격:  [2861.879]\n",
      "# 1000  손실 비용:  1825344.1\n",
      "- 배추 가격:  [2861.879]\n",
      "# 2000  손실 비용:  1825344.1\n",
      "- 배추 가격:  [2861.879]\n",
      "# 3000  손실 비용:  1825344.1\n",
      "- 배추 가격:  [2861.879]\n",
      "# 4000  손실 비용:  1825344.1\n",
      "- 배추 가격:  [2861.879]\n",
      "# 5000  손실 비용:  1825344.1\n",
      "- 배추 가격:  [2861.879]\n",
      "# 6000  손실 비용:  1825344.1\n",
      "- 배추 가격:  [2861.879]\n",
      "# 7000  손실 비용:  1825344.1\n",
      "- 배추 가격:  [2861.879]\n",
      "# 8000  손실 비용:  1825344.1\n",
      "- 배추 가격:  [2861.879]\n",
      "# 9000  손실 비용:  1825344.1\n",
      "- 배추 가격:  [2861.879]\n",
      "# 10000  손실 비용:  1825344.1\n",
      "- 배추 가격:  [2861.879]\n",
      "# 11000  손실 비용:  1825344.1\n",
      "- 배추 가격:  [2861.879]\n",
      "# 12000  손실 비용:  1825344.1\n",
      "- 배추 가격:  [2861.879]\n",
      "# 13000  손실 비용:  1825344.1\n",
      "- 배추 가격:  [2861.879]\n",
      "# 14000  손실 비용:  1825344.1\n",
      "- 배추 가격:  [2861.879]\n",
      "# 15000  손실 비용:  1825344.1\n",
      "- 배추 가격:  [2861.879]\n",
      "# 16000  손실 비용:  1825344.1\n",
      "- 배추 가격:  [2861.879]\n",
      "# 17000  손실 비용:  1825344.1\n",
      "- 배추 가격:  [2861.879]\n",
      "# 18000  손실 비용:  1825344.1\n",
      "- 배추 가격:  [2861.879]\n",
      "# 19000  손실 비용:  1825344.1\n",
      "- 배추 가격:  [2861.879]\n",
      "# 20000  손실 비용:  1825344.1\n",
      "- 배추 가격:  [2861.879]\n",
      "# 21000  손실 비용:  1825344.1\n",
      "- 배추 가격:  [2861.879]\n",
      "# 22000  손실 비용:  1825344.1\n",
      "- 배추 가격:  [2861.879]\n",
      "# 23000  손실 비용:  1825344.1\n",
      "- 배추 가격:  [2861.879]\n",
      "# 24000  손실 비용:  1825344.1\n",
      "- 배추 가격:  [2861.879]\n",
      "# 25000  손실 비용:  1825344.1\n",
      "- 배추 가격:  [2861.879]\n",
      "# 26000  손실 비용:  1825344.1\n",
      "- 배추 가격:  [2861.879]\n",
      "# 27000  손실 비용:  1825344.1\n",
      "- 배추 가격:  [2861.879]\n",
      "# 28000  손실 비용:  1825344.1\n",
      "- 배추 가격:  [2861.879]\n",
      "# 29000  손실 비용:  1825344.1\n",
      "- 배추 가격:  [2861.879]\n",
      "# 30000  손실 비용:  1825344.1\n",
      "- 배추 가격:  [2861.879]\n",
      "# 31000  손실 비용:  1825344.1\n",
      "- 배추 가격:  [2861.879]\n",
      "# 32000  손실 비용:  1825344.1\n",
      "- 배추 가격:  [2861.879]\n",
      "# 33000  손실 비용:  1825344.1\n",
      "- 배추 가격:  [2861.879]\n",
      "# 34000  손실 비용:  1825344.1\n",
      "- 배추 가격:  [2861.879]\n",
      "# 35000  손실 비용:  1825344.1\n",
      "- 배추 가격:  [2861.879]\n",
      "# 36000  손실 비용:  1825344.1\n",
      "- 배추 가격:  [2861.879]\n",
      "# 37000  손실 비용:  1825344.1\n",
      "- 배추 가격:  [2861.879]\n",
      "# 38000  손실 비용:  1825344.1\n",
      "- 배추 가격:  [2861.879]\n",
      "# 39000  손실 비용:  1825344.1\n",
      "- 배추 가격:  [2861.879]\n",
      "# 40000  손실 비용:  1825344.1\n",
      "- 배추 가격:  [2861.879]\n",
      "# 41000  손실 비용:  1825344.1\n",
      "- 배추 가격:  [2861.879]\n",
      "# 42000  손실 비용:  1825344.1\n",
      "- 배추 가격:  [2861.879]\n",
      "# 43000  손실 비용:  1825344.1\n",
      "- 배추 가격:  [2861.879]\n",
      "# 44000  손실 비용:  1825344.1\n",
      "- 배추 가격:  [2861.879]\n",
      "# 45000  손실 비용:  1825344.1\n",
      "- 배추 가격:  [2861.879]\n",
      "# 46000  손실 비용:  1825344.1\n",
      "- 배추 가격:  [2861.879]\n",
      "# 47000  손실 비용:  1825344.1\n",
      "- 배추 가격:  [2861.879]\n",
      "# 48000  손실 비용:  1825344.1\n",
      "- 배추 가격:  [2861.879]\n",
      "# 49000  손실 비용:  1825344.1\n",
      "- 배추 가격:  [2861.879]\n",
      "# 50000  손실 비용:  1825344.1\n",
      "- 배추 가격:  [2861.879]\n",
      "# 51000  손실 비용:  1825344.1\n",
      "- 배추 가격:  [2861.879]\n",
      "# 52000  손실 비용:  1825344.1\n",
      "- 배추 가격:  [2861.879]\n",
      "# 53000  손실 비용:  1825344.1\n",
      "- 배추 가격:  [2861.879]\n",
      "# 54000  손실 비용:  1825344.1\n",
      "- 배추 가격:  [2861.879]\n",
      "# 55000  손실 비용:  1825344.1\n",
      "- 배추 가격:  [2861.879]\n",
      "# 56000  손실 비용:  1825344.1\n",
      "- 배추 가격:  [2861.879]\n",
      "# 57000  손실 비용:  1825344.1\n",
      "- 배추 가격:  [2861.879]\n",
      "# 58000  손실 비용:  1825344.1\n",
      "- 배추 가격:  [2861.879]\n",
      "# 59000  손실 비용:  1825344.1\n",
      "- 배추 가격:  [2861.879]\n",
      "# 60000  손실 비용:  1825344.1\n",
      "- 배추 가격:  [2861.879]\n",
      "# 61000  손실 비용:  1825344.1\n",
      "- 배추 가격:  [2861.879]\n",
      "# 62000  손실 비용:  1825344.1\n",
      "- 배추 가격:  [2861.879]\n",
      "# 63000  손실 비용:  1825344.1\n",
      "- 배추 가격:  [2861.879]\n",
      "# 64000  손실 비용:  1825344.1\n",
      "- 배추 가격:  [2861.879]\n",
      "# 65000  손실 비용:  1825344.1\n",
      "- 배추 가격:  [2861.879]\n",
      "# 66000  손실 비용:  1825344.1\n",
      "- 배추 가격:  [2861.879]\n",
      "# 67000  손실 비용:  1825344.1\n",
      "- 배추 가격:  [2861.879]\n",
      "# 68000  손실 비용:  1825344.1\n",
      "- 배추 가격:  [2861.879]\n",
      "# 69000  손실 비용:  1825344.1\n",
      "- 배추 가격:  [2861.879]\n",
      "# 70000  손실 비용:  1825344.1\n",
      "- 배추 가격:  [2861.879]\n",
      "# 71000  손실 비용:  1825344.1\n",
      "- 배추 가격:  [2861.879]\n",
      "# 72000  손실 비용:  1825344.1\n",
      "- 배추 가격:  [2861.879]\n",
      "# 73000  손실 비용:  1825344.1\n",
      "- 배추 가격:  [2861.879]\n",
      "# 74000  손실 비용:  1825344.1\n",
      "- 배추 가격:  [2861.879]\n",
      "# 75000  손실 비용:  1825344.1\n",
      "- 배추 가격:  [2861.879]\n",
      "# 76000  손실 비용:  1825344.1\n",
      "- 배추 가격:  [2861.879]\n",
      "# 77000  손실 비용:  1825344.1\n",
      "- 배추 가격:  [2861.879]\n",
      "# 78000  손실 비용:  1825344.1\n",
      "- 배추 가격:  [2861.879]\n",
      "# 79000  손실 비용:  1825344.1\n",
      "- 배추 가격:  [2861.879]\n",
      "# 80000  손실 비용:  1825344.1\n",
      "- 배추 가격:  [2861.879]\n",
      "# 81000  손실 비용:  1825344.1\n",
      "- 배추 가격:  [2861.879]\n",
      "# 82000  손실 비용:  1825344.1\n",
      "- 배추 가격:  [2861.879]\n",
      "# 83000  손실 비용:  1825344.1\n",
      "- 배추 가격:  [2861.879]\n",
      "# 84000  손실 비용:  1825344.1\n",
      "- 배추 가격:  [2861.879]\n",
      "# 85000  손실 비용:  1825344.1\n",
      "- 배추 가격:  [2861.879]\n",
      "# 86000  손실 비용:  1825344.1\n",
      "- 배추 가격:  [2861.879]\n",
      "# 87000  손실 비용:  1825344.1\n",
      "- 배추 가격:  [2861.879]\n",
      "# 88000  손실 비용:  1825344.1\n",
      "- 배추 가격:  [2861.879]\n",
      "# 89000  손실 비용:  1825344.1\n",
      "- 배추 가격:  [2861.879]\n",
      "# 90000  손실 비용:  1825344.1\n",
      "- 배추 가격:  [2861.879]\n",
      "# 91000  손실 비용:  1825344.1\n",
      "- 배추 가격:  [2861.879]\n",
      "# 92000  손실 비용:  1825344.1\n",
      "- 배추 가격:  [2861.879]\n",
      "# 93000  손실 비용:  1825344.1\n",
      "- 배추 가격:  [2861.879]\n",
      "# 94000  손실 비용:  1825344.1\n",
      "- 배추 가격:  [2861.879]\n",
      "# 95000  손실 비용:  1825344.1\n",
      "- 배추 가격:  [2861.879]\n",
      "# 96000  손실 비용:  1825344.1\n",
      "- 배추 가격:  [2861.879]\n",
      "# 97000  손실 비용:  1825344.1\n",
      "- 배추 가격:  [2861.879]\n",
      "# 98000  손실 비용:  1825344.1\n",
      "- 배추 가격:  [2861.879]\n",
      "# 99000  손실 비용:  1825344.1\n",
      "- 배추 가격:  [2861.879]\n",
      "# 100000  손실 비용:  1825344.1\n",
      "- 배추 가격:  [2861.879]\n"
     ]
    },
    {
     "ename": "ValueError",
     "evalue": "Cannot evaluate tensor using `eval()`: No default session is registered. Use `with sess.as_default()` or pass an explicit session to `eval(session=sess)`",
     "output_type": "error",
     "traceback": [
      "\u001b[1;31m---------------------------------------------------------------------------\u001b[0m",
      "\u001b[1;31mValueError\u001b[0m                                Traceback (most recent call last)",
      "\u001b[1;32m<ipython-input-43-9879e9858c7c>\u001b[0m in \u001b[0;36m<module>\u001b[1;34m\u001b[0m\n\u001b[0;32m      6\u001b[0m         \u001b[0mprint\u001b[0m\u001b[1;33m(\u001b[0m\u001b[1;34m\"- 배추 가격: \"\u001b[0m\u001b[1;33m,\u001b[0m \u001b[0mhypo_\u001b[0m\u001b[1;33m[\u001b[0m\u001b[1;36m0\u001b[0m\u001b[1;33m]\u001b[0m\u001b[1;33m)\u001b[0m\u001b[1;33m\u001b[0m\u001b[1;33m\u001b[0m\u001b[0m\n\u001b[0;32m      7\u001b[0m \u001b[1;33m\u001b[0m\u001b[0m\n\u001b[1;32m----> 8\u001b[1;33m \u001b[0mprint\u001b[0m\u001b[1;33m(\u001b[0m\u001b[1;34m\"@\"\u001b[0m\u001b[1;33m,\u001b[0m \u001b[1;34m'정확도'\u001b[0m\u001b[1;33m,\u001b[0m \u001b[0maccuracy\u001b[0m\u001b[1;33m.\u001b[0m\u001b[0meval\u001b[0m\u001b[1;33m(\u001b[0m\u001b[1;33m{\u001b[0m\u001b[0mX\u001b[0m\u001b[1;33m:\u001b[0m\u001b[0mx_data\u001b[0m\u001b[1;33m,\u001b[0m\u001b[0mY\u001b[0m\u001b[1;33m:\u001b[0m\u001b[0my_data\u001b[0m\u001b[1;33m}\u001b[0m\u001b[1;33m)\u001b[0m\u001b[1;33m)\u001b[0m\u001b[1;33m\u001b[0m\u001b[1;33m\u001b[0m\u001b[0m\n\u001b[0m",
      "\u001b[1;32m~\\Anaconda3\\lib\\site-packages\\tensorflow_core\\python\\framework\\ops.py\u001b[0m in \u001b[0;36meval\u001b[1;34m(self, feed_dict, session)\u001b[0m\n\u001b[0;32m    796\u001b[0m \u001b[1;33m\u001b[0m\u001b[0m\n\u001b[0;32m    797\u001b[0m     \"\"\"\n\u001b[1;32m--> 798\u001b[1;33m     \u001b[1;32mreturn\u001b[0m \u001b[0m_eval_using_default_session\u001b[0m\u001b[1;33m(\u001b[0m\u001b[0mself\u001b[0m\u001b[1;33m,\u001b[0m \u001b[0mfeed_dict\u001b[0m\u001b[1;33m,\u001b[0m \u001b[0mself\u001b[0m\u001b[1;33m.\u001b[0m\u001b[0mgraph\u001b[0m\u001b[1;33m,\u001b[0m \u001b[0msession\u001b[0m\u001b[1;33m)\u001b[0m\u001b[1;33m\u001b[0m\u001b[1;33m\u001b[0m\u001b[0m\n\u001b[0m\u001b[0;32m    799\u001b[0m \u001b[1;33m\u001b[0m\u001b[0m\n\u001b[0;32m    800\u001b[0m   \u001b[1;32mdef\u001b[0m \u001b[0mexperimental_ref\u001b[0m\u001b[1;33m(\u001b[0m\u001b[0mself\u001b[0m\u001b[1;33m)\u001b[0m\u001b[1;33m:\u001b[0m\u001b[1;33m\u001b[0m\u001b[1;33m\u001b[0m\u001b[0m\n",
      "\u001b[1;32m~\\Anaconda3\\lib\\site-packages\\tensorflow_core\\python\\framework\\ops.py\u001b[0m in \u001b[0;36m_eval_using_default_session\u001b[1;34m(tensors, feed_dict, graph, session)\u001b[0m\n\u001b[0;32m   5391\u001b[0m     \u001b[0msession\u001b[0m \u001b[1;33m=\u001b[0m \u001b[0mget_default_session\u001b[0m\u001b[1;33m(\u001b[0m\u001b[1;33m)\u001b[0m\u001b[1;33m\u001b[0m\u001b[1;33m\u001b[0m\u001b[0m\n\u001b[0;32m   5392\u001b[0m     \u001b[1;32mif\u001b[0m \u001b[0msession\u001b[0m \u001b[1;32mis\u001b[0m \u001b[1;32mNone\u001b[0m\u001b[1;33m:\u001b[0m\u001b[1;33m\u001b[0m\u001b[1;33m\u001b[0m\u001b[0m\n\u001b[1;32m-> 5393\u001b[1;33m       raise ValueError(\"Cannot evaluate tensor using `eval()`: No default \"\n\u001b[0m\u001b[0;32m   5394\u001b[0m                        \u001b[1;34m\"session is registered. Use `with \"\u001b[0m\u001b[1;33m\u001b[0m\u001b[1;33m\u001b[0m\u001b[0m\n\u001b[0;32m   5395\u001b[0m                        \u001b[1;34m\"sess.as_default()` or pass an explicit session to \"\u001b[0m\u001b[1;33m\u001b[0m\u001b[1;33m\u001b[0m\u001b[0m\n",
      "\u001b[1;31mValueError\u001b[0m: Cannot evaluate tensor using `eval()`: No default session is registered. Use `with sess.as_default()` or pass an explicit session to `eval(session=sess)`"
     ]
    }
   ],
   "source": [
    "# 학습을 수행합니다.\n",
    "for step in range(100001):\n",
    "    cost_, hypo_, _ = sess.run([cost, hypothesis, train], feed_dict={X: x_data, Y: y_data})\n",
    "    if step % 1000 == 0:\n",
    "        print(\"#\", step, \" 손실 비용: \", cost_)\n",
    "        print(\"- 배추 가격: \", hypo_[0])\n",
    "        \n",
    "print(\"@\", '정확도', accuracy.eval({X:x_data,Y:y_data}))        "
   ]
  },
  {
   "cell_type": "code",
   "execution_count": 17,
   "metadata": {},
   "outputs": [
    {
     "name": "stdout",
     "output_type": "stream",
     "text": [
      "학습된 모델을 저장했습니다.\n"
     ]
    }
   ],
   "source": [
    "# 학습된 모델을 저장합니다.\n",
    "saver = tf.train.Saver()\n",
    "save_path = saver.save(sess, \"./saved.cpkt\")\n",
    "print('학습된 모델을 저장했습니다.')"
   ]
  },
  {
   "cell_type": "code",
   "execution_count": null,
   "metadata": {},
   "outputs": [],
   "source": []
  }
 ],
 "metadata": {
  "kernelspec": {
   "display_name": "Python 3",
   "language": "python",
   "name": "python3"
  },
  "language_info": {
   "codemirror_mode": {
    "name": "ipython",
    "version": 3
   },
   "file_extension": ".py",
   "mimetype": "text/x-python",
   "name": "python",
   "nbconvert_exporter": "python",
   "pygments_lexer": "ipython3",
   "version": "3.7.4"
  }
 },
 "nbformat": 4,
 "nbformat_minor": 4
}
